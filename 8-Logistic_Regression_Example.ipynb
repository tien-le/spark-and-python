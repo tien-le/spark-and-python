{
 "cells": [
  {
   "cell_type": "markdown",
   "metadata": {},
   "source": [
    "# Logistic Regression\n",
    "\n",
    "Let's see an example of how to run a logistic regression with Python and Spark! This is documentation example, we will quickly run through this and then show a more realistic example, afterwards, you will have another consulting project!"
   ]
  },
  {
   "cell_type": "markdown",
   "metadata": {},
   "source": [
    "# B1: Create SparkSession"
   ]
  },
  {
   "cell_type": "code",
   "execution_count": 1,
   "metadata": {
    "ExecuteTime": {
     "end_time": "2020-02-14T14:28:57.301192Z",
     "start_time": "2020-02-14T14:28:51.648181Z"
    }
   },
   "outputs": [],
   "source": [
    "from pyspark.sql import SparkSession\n",
    "\n",
    "spark = SparkSession.builder.appName(\"logistic_regression_example\").getOrCreate()"
   ]
  },
  {
   "cell_type": "markdown",
   "metadata": {},
   "source": [
    "# B2: Load input corpus\n",
    "'sample_libsvm_data.txt' with format 'libsvm'"
   ]
  },
  {
   "cell_type": "code",
   "execution_count": 2,
   "metadata": {
    "ExecuteTime": {
     "end_time": "2020-02-14T14:28:58.689530Z",
     "start_time": "2020-02-14T14:28:58.672573Z"
    }
   },
   "outputs": [],
   "source": [
    "dir_input_path = \"./../input_data/\"\n",
    "file_input_path = dir_input_path + 'sample_libsvm_data.txt'"
   ]
  },
  {
   "cell_type": "code",
   "execution_count": 3,
   "metadata": {
    "ExecuteTime": {
     "end_time": "2020-02-14T14:29:00.037315Z",
     "start_time": "2020-02-14T14:29:00.017858Z"
    }
   },
   "outputs": [
    {
     "name": "stdout",
     "output_type": "stream",
     "text": [
      "Verified input file : ./../input_data/sample_libsvm_data.txt\n"
     ]
    }
   ],
   "source": [
    "import os\n",
    "\n",
    "if not os.path.exists(file_input_path):\n",
    "    print(\"File Not Found :\", file_input_path)\n",
    "else:\n",
    "    print(\"Verified input file :\", file_input_path)"
   ]
  },
  {
   "cell_type": "code",
   "execution_count": 4,
   "metadata": {
    "ExecuteTime": {
     "end_time": "2020-02-14T14:29:04.846122Z",
     "start_time": "2020-02-14T14:29:01.057200Z"
    }
   },
   "outputs": [],
   "source": [
    "df = spark.read.format(\"libsvm\").load(file_input_path)"
   ]
  },
  {
   "cell_type": "markdown",
   "metadata": {},
   "source": [
    "# B3: Show overview of input corpus\n",
    "\n",
    "## Schema"
   ]
  },
  {
   "cell_type": "code",
   "execution_count": 5,
   "metadata": {
    "ExecuteTime": {
     "end_time": "2020-02-14T14:29:06.199256Z",
     "start_time": "2020-02-14T14:29:06.127449Z"
    }
   },
   "outputs": [
    {
     "name": "stdout",
     "output_type": "stream",
     "text": [
      "root\n",
      " |-- label: double (nullable = true)\n",
      " |-- features: vector (nullable = true)\n",
      "\n"
     ]
    }
   ],
   "source": [
    "df.printSchema()"
   ]
  },
  {
   "cell_type": "markdown",
   "metadata": {},
   "source": [
    "## Description"
   ]
  },
  {
   "cell_type": "code",
   "execution_count": 6,
   "metadata": {
    "ExecuteTime": {
     "end_time": "2020-02-14T14:29:08.179794Z",
     "start_time": "2020-02-14T14:29:07.375568Z"
    }
   },
   "outputs": [
    {
     "name": "stdout",
     "output_type": "stream",
     "text": [
      "+-------+-------------------+\n",
      "|summary|              label|\n",
      "+-------+-------------------+\n",
      "|  count|                100|\n",
      "|   mean|               0.57|\n",
      "| stddev|0.49756985195624287|\n",
      "|    min|                0.0|\n",
      "|    max|                1.0|\n",
      "+-------+-------------------+\n",
      "\n"
     ]
    }
   ],
   "source": [
    "df.describe().show()"
   ]
  },
  {
   "cell_type": "markdown",
   "metadata": {},
   "source": [
    "## The column names"
   ]
  },
  {
   "cell_type": "code",
   "execution_count": 7,
   "metadata": {
    "ExecuteTime": {
     "end_time": "2020-02-14T14:29:09.749510Z",
     "start_time": "2020-02-14T14:29:09.710613Z"
    }
   },
   "outputs": [
    {
     "data": {
      "text/plain": [
       "['label', 'features']"
      ]
     },
     "execution_count": 7,
     "metadata": {},
     "output_type": "execute_result"
    }
   ],
   "source": [
    "df.columns"
   ]
  },
  {
   "cell_type": "markdown",
   "metadata": {},
   "source": [
    "## Sample Data"
   ]
  },
  {
   "cell_type": "code",
   "execution_count": 8,
   "metadata": {
    "ExecuteTime": {
     "end_time": "2020-02-14T14:29:11.296456Z",
     "start_time": "2020-02-14T14:29:11.023673Z"
    }
   },
   "outputs": [
    {
     "name": "stdout",
     "output_type": "stream",
     "text": [
      "+-----+--------------------+\n",
      "|label|            features|\n",
      "+-----+--------------------+\n",
      "|  0.0|(692,[127,128,129...|\n",
      "|  1.0|(692,[158,159,160...|\n",
      "+-----+--------------------+\n",
      "only showing top 2 rows\n",
      "\n"
     ]
    }
   ],
   "source": [
    "df.show(2)"
   ]
  },
  {
   "cell_type": "markdown",
   "metadata": {},
   "source": [
    "## Print each item in the first line"
   ]
  },
  {
   "cell_type": "code",
   "execution_count": 9,
   "metadata": {
    "ExecuteTime": {
     "end_time": "2020-02-14T14:29:12.700679Z",
     "start_time": "2020-02-14T14:29:12.478828Z"
    }
   },
   "outputs": [
    {
     "name": "stdout",
     "output_type": "stream",
     "text": [
      "0.0\n",
      "(692,[127,128,129,130,131,154,155,156,157,158,159,181,182,183,184,185,186,187,188,189,207,208,209,210,211,212,213,214,215,216,217,235,236,237,238,239,240,241,242,243,244,245,262,263,264,265,266,267,268,269,270,271,272,273,289,290,291,292,293,294,295,296,297,300,301,302,316,317,318,319,320,321,328,329,330,343,344,345,346,347,348,349,356,357,358,371,372,373,374,384,385,386,399,400,401,412,413,414,426,427,428,429,440,441,442,454,455,456,457,466,467,468,469,470,482,483,484,493,494,495,496,497,510,511,512,520,521,522,523,538,539,540,547,548,549,550,566,567,568,569,570,571,572,573,574,575,576,577,578,594,595,596,597,598,599,600,601,602,603,604,622,623,624,625,626,627,628,629,630,651,652,653,654,655,656,657],[51.0,159.0,253.0,159.0,50.0,48.0,238.0,252.0,252.0,252.0,237.0,54.0,227.0,253.0,252.0,239.0,233.0,252.0,57.0,6.0,10.0,60.0,224.0,252.0,253.0,252.0,202.0,84.0,252.0,253.0,122.0,163.0,252.0,252.0,252.0,253.0,252.0,252.0,96.0,189.0,253.0,167.0,51.0,238.0,253.0,253.0,190.0,114.0,253.0,228.0,47.0,79.0,255.0,168.0,48.0,238.0,252.0,252.0,179.0,12.0,75.0,121.0,21.0,253.0,243.0,50.0,38.0,165.0,253.0,233.0,208.0,84.0,253.0,252.0,165.0,7.0,178.0,252.0,240.0,71.0,19.0,28.0,253.0,252.0,195.0,57.0,252.0,252.0,63.0,253.0,252.0,195.0,198.0,253.0,190.0,255.0,253.0,196.0,76.0,246.0,252.0,112.0,253.0,252.0,148.0,85.0,252.0,230.0,25.0,7.0,135.0,253.0,186.0,12.0,85.0,252.0,223.0,7.0,131.0,252.0,225.0,71.0,85.0,252.0,145.0,48.0,165.0,252.0,173.0,86.0,253.0,225.0,114.0,238.0,253.0,162.0,85.0,252.0,249.0,146.0,48.0,29.0,85.0,178.0,225.0,253.0,223.0,167.0,56.0,85.0,252.0,252.0,252.0,229.0,215.0,252.0,252.0,252.0,196.0,130.0,28.0,199.0,252.0,252.0,253.0,252.0,252.0,233.0,145.0,25.0,128.0,252.0,253.0,252.0,141.0,37.0])\n"
     ]
    }
   ],
   "source": [
    "for item in df.head():\n",
    "    print(item)"
   ]
  },
  {
   "cell_type": "markdown",
   "metadata": {},
   "source": [
    "# B6: Splitting Full Data to Training set & Testing set"
   ]
  },
  {
   "cell_type": "code",
   "execution_count": 10,
   "metadata": {
    "ExecuteTime": {
     "end_time": "2020-02-14T14:29:13.953309Z",
     "start_time": "2020-02-14T14:29:13.848047Z"
    }
   },
   "outputs": [],
   "source": [
    "train_set, test_set = df.randomSplit([0.7, 0.3])"
   ]
  },
  {
   "cell_type": "markdown",
   "metadata": {},
   "source": [
    "## Showing description of training set "
   ]
  },
  {
   "cell_type": "code",
   "execution_count": 11,
   "metadata": {
    "ExecuteTime": {
     "end_time": "2020-02-14T14:29:16.248187Z",
     "start_time": "2020-02-14T14:29:15.630634Z"
    }
   },
   "outputs": [
    {
     "name": "stdout",
     "output_type": "stream",
     "text": [
      "+-------+------------------+\n",
      "|summary|             label|\n",
      "+-------+------------------+\n",
      "|  count|                69|\n",
      "|   mean|0.5507246376811594|\n",
      "| stddev| 0.501064510466231|\n",
      "|    min|               0.0|\n",
      "|    max|               1.0|\n",
      "+-------+------------------+\n",
      "\n"
     ]
    }
   ],
   "source": [
    "train_set.describe().show()"
   ]
  },
  {
   "cell_type": "markdown",
   "metadata": {},
   "source": [
    "## Showing description of testing set "
   ]
  },
  {
   "cell_type": "code",
   "execution_count": 12,
   "metadata": {
    "ExecuteTime": {
     "end_time": "2020-02-14T14:29:17.837097Z",
     "start_time": "2020-02-14T14:29:17.526813Z"
    }
   },
   "outputs": [
    {
     "name": "stdout",
     "output_type": "stream",
     "text": [
      "+-------+-------------------+\n",
      "|summary|              label|\n",
      "+-------+-------------------+\n",
      "|  count|                 31|\n",
      "|   mean| 0.6129032258064516|\n",
      "| stddev|0.49513764785419084|\n",
      "|    min|                0.0|\n",
      "|    max|                1.0|\n",
      "+-------+-------------------+\n",
      "\n"
     ]
    }
   ],
   "source": [
    "test_set.describe().show()"
   ]
  },
  {
   "cell_type": "markdown",
   "metadata": {},
   "source": [
    "# B7: Training & Testing Phase\n",
    "\n",
    "## Creating Model object"
   ]
  },
  {
   "cell_type": "code",
   "execution_count": 13,
   "metadata": {
    "ExecuteTime": {
     "end_time": "2020-02-14T14:29:19.131832Z",
     "start_time": "2020-02-14T14:29:19.097357Z"
    }
   },
   "outputs": [],
   "source": [
    "from pyspark.ml.classification import LogisticRegression"
   ]
  },
  {
   "cell_type": "code",
   "execution_count": 14,
   "metadata": {
    "ExecuteTime": {
     "end_time": "2020-02-14T14:29:19.958519Z",
     "start_time": "2020-02-14T14:29:19.912643Z"
    }
   },
   "outputs": [
    {
     "data": {
      "text/plain": [
       "['label', 'features']"
      ]
     },
     "execution_count": 14,
     "metadata": {},
     "output_type": "execute_result"
    }
   ],
   "source": [
    "df.columns"
   ]
  },
  {
   "cell_type": "code",
   "execution_count": 15,
   "metadata": {
    "ExecuteTime": {
     "end_time": "2020-02-14T14:29:20.826006Z",
     "start_time": "2020-02-14T14:29:20.678428Z"
    }
   },
   "outputs": [],
   "source": [
    "lg = LogisticRegression(featuresCol='features', labelCol='label')"
   ]
  },
  {
   "cell_type": "markdown",
   "metadata": {},
   "source": [
    "## Fitting the model to data"
   ]
  },
  {
   "cell_type": "code",
   "execution_count": 16,
   "metadata": {
    "ExecuteTime": {
     "end_time": "2020-02-14T14:29:24.314282Z",
     "start_time": "2020-02-14T14:29:22.190465Z"
    }
   },
   "outputs": [],
   "source": [
    "lg_model = lg.fit(train_set)"
   ]
  },
  {
   "cell_type": "markdown",
   "metadata": {},
   "source": [
    "## Printing coefficients and intercept for ML model (if needed)"
   ]
  },
  {
   "cell_type": "code",
   "execution_count": 17,
   "metadata": {
    "ExecuteTime": {
     "end_time": "2020-02-14T14:29:25.750320Z",
     "start_time": "2020-02-14T14:29:25.615175Z"
    }
   },
   "outputs": [
    {
     "data": {
      "text/plain": [
       "SparseVector(692, {95: 0.0009, 96: 0.0002, 97: 0.0002, 98: 0.0, 99: 0.004, 100: 0.0066, 101: 0.003, 102: -0.0017, 119: 0.01, 120: 0.0033, 121: 0.0064, 122: 0.0412, 123: 0.002, 124: 0.0013, 125: 0.0009, 126: 0.0007, 127: 0.0013, 128: 0.0011, 129: 0.0, 130: 0.0001, 131: 0.002, 132: 0.0039, 133: 0.0018, 146: 0.0103, 147: 0.0035, 148: 0.0034, 149: 0.0033, 150: 0.0011, 151: -0.0002, 152: 0.001, 153: 0.0005, 154: -0.0007, 155: -0.0004, 156: -0.0008, 157: -0.0006, 158: -0.0005, 159: 0.0005, 160: 0.0012, 161: -0.0006, 162: 0.0006, 163: 0.0015, 164: 0.0089, 174: 0.0048, 175: 0.0029, 176: 0.0007, 177: -0.0002, 178: -0.0003, 179: 0.0001, 180: 0.0003, 181: 0.0, 182: -0.0002, 183: 0.0013, 184: -0.0002, 185: -0.0006, 186: -0.0001, 187: -0.0003, 188: -0.0005, 189: -0.0011, 190: 0.0005, 191: 0.0005, 192: 0.0009, 202: -0.008, 203: -0.0, 204: -0.0005, 205: -0.0005, 206: -0.0003, 207: -0.0005, 208: -0.0004, 209: -0.0009, 210: 0.0009, 211: 0.0018, 212: 0.0001, 213: -0.0015, 214: -0.0005, 215: -0.0007, 216: -0.001, 217: -0.0002, 218: 0.0019, 219: 0.0005, 220: 0.0005, 230: -0.004, 231: -0.0015, 232: -0.0004, 233: 0.0001, 234: -0.0008, 235: -0.0011, 236: -0.0001, 237: 0.0001, 238: 0.0012, 239: 0.0013, 240: -0.0007, 241: -0.0007, 242: -0.0002, 243: -0.0006, 244: -0.0015, 245: -0.0011, 246: 0.0, 247: -0.002, 248: 0.0002, 257: -0.0015, 258: -0.0018, 259: -0.0015, 260: -0.0003, 261: -0.0003, 262: -0.0003, 263: -0.0005, 264: 0.0002, 265: 0.0006, 266: 0.0016, 267: 0.001, 268: -0.0001, 269: 0.0007, 270: 0.0008, 271: -0.0009, 272: -0.0018, 273: -0.0022, 274: -0.0011, 275: -0.002, 276: -0.0022, 285: -0.009, 286: -0.0017, 287: -0.0013, 288: 0.0003, 289: 0.0, 290: -0.0011, 291: -0.0006, 292: 0.0004, 293: 0.0009, 294: 0.0023, 295: 0.0019, 296: 0.0008, 297: 0.0016, 298: 0.0014, 299: -0.0015, 300: -0.0025, 301: -0.0018, 302: -0.0008, 303: -0.0019, 304: -0.0027, 313: -0.0028, 314: -0.0012, 315: 0.0006, 316: 0.0008, 317: -0.0005, 318: -0.0003, 319: -0.0006, 320: -0.0001, 321: 0.0011, 322: 0.0025, 323: 0.0025, 324: 0.0016, 325: 0.0022, 326: 0.0018, 327: -0.0023, 328: -0.0029, 329: -0.0015, 330: -0.0009, 331: -0.0016, 332: -0.0027, 341: -0.0014, 342: 0.0002, 343: 0.0014, 344: -0.0, 345: -0.0008, 346: -0.0013, 347: -0.0006, 348: -0.0002, 349: 0.0011, 350: 0.0031, 351: 0.0027, 352: 0.0031, 353: 0.0025, 354: -0.0005, 355: -0.0033, 356: -0.0029, 357: -0.0017, 358: -0.0008, 359: -0.0014, 360: -0.0016, 369: -0.0001, 370: 0.0008, 371: -0.0002, 372: -0.0017, 373: -0.0018, 374: -0.0012, 375: -0.0009, 376: -0.0002, 377: 0.0025, 378: 0.0037, 379: 0.0029, 380: 0.0036, 381: 0.0021, 382: -0.0035, 383: -0.0031, 384: -0.003, 385: -0.002, 386: -0.001, 387: -0.0012, 388: -0.0007, 396: -0.0009, 397: -0.0002, 398: -0.0007, 399: -0.0013, 400: -0.0018, 401: -0.0012, 402: -0.0014, 403: -0.0015, 404: 0.0008, 405: 0.0032, 406: 0.0038, 407: 0.0033, 408: 0.0035, 409: 0.0007, 410: -0.0041, 411: -0.0027, 412: -0.003, 413: -0.0025, 414: -0.0009, 415: -0.0009, 416: -0.001, 424: 0.0003, 425: -0.0017, 426: -0.0017, 427: -0.0014, 428: -0.0018, 429: -0.0019, 430: -0.0018, 431: -0.0033, 432: 0.002, 433: 0.0042, 434: 0.004, 435: 0.003, 436: 0.0042, 437: -0.0016, 438: -0.0032, 439: -0.0022, 440: -0.0031, 441: -0.0019, 442: -0.0007, 443: -0.0006, 444: -0.0016, 452: 0.0022, 453: -0.0017, 454: -0.0016, 455: -0.0014, 456: -0.002, 457: -0.002, 458: -0.0023, 459: -0.0008, 460: 0.0021, 461: 0.004, 462: 0.0039, 463: 0.0025, 464: 0.0025, 465: -0.0025, 466: -0.002, 467: -0.0022, 468: -0.0028, 469: -0.002, 470: -0.0005, 471: -0.0007, 472: -0.0014, 480: -0.0003, 481: -0.0014, 482: -0.0015, 483: -0.0014, 484: -0.0021, 485: -0.0022, 486: -0.0024, 487: -0.0002, 488: 0.0016, 489: 0.0041, 490: 0.0034, 491: 0.0025, 492: 0.0016, 493: -0.0017, 494: -0.0015, 495: -0.0019, 496: -0.0024, 497: -0.0017, 498: -0.0004, 499: -0.0008, 500: -0.0014, 508: -0.0005, 509: -0.0015, 510: -0.0016, 511: -0.0015, 512: -0.0021, 513: -0.0023, 514: -0.0006, 515: 0.0001, 516: 0.0025, 517: 0.0049, 518: 0.0031, 519: 0.0017, 520: 0.0001, 521: -0.0012, 522: -0.0019, 523: -0.0017, 524: -0.0016, 525: -0.0001, 526: -0.0005, 527: -0.0013, 528: -0.0024, 536: -0.0006, 537: -0.0021, 538: -0.0014, 539: -0.0016, 540: -0.0022, 541: -0.0016, 542: 0.0008, 543: 0.0007, 544: 0.0033, 545: 0.005, 546: 0.003, 547: 0.0015, 548: -0.0008, 549: -0.0012, 550: -0.001, 551: -0.0008, 552: -0.0002, 553: 0.0004, 554: -0.0009, 555: -0.0017, 556: -0.0043, 564: -0.0016, 565: -0.0018, 566: -0.0014, 567: -0.001, 568: -0.0017, 569: -0.0014, 570: -0.0001, 571: 0.0008, 572: 0.0031, 573: 0.0034, 574: 0.0018, 575: 0.0003, 576: -0.0009, 577: -0.0008, 578: 0.0005, 579: -0.0006, 580: 0.0004, 581: -0.0, 582: -0.0014, 583: -0.002, 592: -0.0021, 593: -0.0004, 594: 0.0016, 595: 0.0005, 596: -0.0007, 597: -0.0015, 598: -0.0015, 599: -0.0007, 600: 0.0009, 601: 0.0015, 602: 0.0002, 603: -0.0001, 604: -0.0003, 605: 0.0004, 606: -0.0003, 607: -0.0007, 608: -0.0004, 609: -0.0009, 610: -0.0018, 611: -0.0116, 620: -0.0025, 621: -0.0007, 622: 0.0059, 623: 0.0025, 624: 0.0008, 625: -0.0005, 626: -0.0015, 627: -0.0007, 628: 0.0008, 629: 0.0002, 630: -0.0007, 631: 0.0001, 632: -0.0002, 633: 0.0, 634: 0.0007, 635: 0.0008, 636: -0.0007, 637: -0.0007, 638: -0.0016, 649: -0.0019, 650: 0.0009, 651: 0.0032, 652: 0.0022, 653: 0.0015, 654: -0.0001, 655: -0.0004, 656: 0.0002, 657: -0.0014, 658: -0.0018, 659: -0.0012, 660: -0.0015, 661: -0.0001, 662: 0.0014, 663: 0.0006, 664: 0.0007, 665: 0.0035, 666: -0.0113, 678: -0.0042, 679: -0.0006, 680: 0.0, 681: 0.0016, 682: -0.0003, 683: -0.0012, 684: -0.0025, 685: -0.0028, 686: -0.0025, 687: -0.0029, 688: -0.0038, 689: -0.0023, 690: -0.004, 691: -0.0175})"
      ]
     },
     "execution_count": 17,
     "metadata": {},
     "output_type": "execute_result"
    }
   ],
   "source": [
    "lg_model.coefficients"
   ]
  },
  {
   "cell_type": "code",
   "execution_count": 18,
   "metadata": {
    "ExecuteTime": {
     "end_time": "2020-02-14T14:29:26.472057Z",
     "start_time": "2020-02-14T14:29:26.415209Z"
    }
   },
   "outputs": [
    {
     "data": {
      "text/plain": [
       "0.3543545275512681"
      ]
     },
     "execution_count": 18,
     "metadata": {},
     "output_type": "execute_result"
    }
   ],
   "source": [
    "lg_model.intercept"
   ]
  },
  {
   "cell_type": "markdown",
   "metadata": {},
   "source": [
    "## B8: Evaluating Phase\n",
    "### Evaluating the model based on the training set\n",
    "Showing the predictions of train_result after evaluating"
   ]
  },
  {
   "cell_type": "code",
   "execution_count": 19,
   "metadata": {
    "ExecuteTime": {
     "end_time": "2020-02-14T14:29:28.428427Z",
     "start_time": "2020-02-14T14:29:28.167614Z"
    }
   },
   "outputs": [],
   "source": [
    "train_result = lg_model.evaluate(train_set)"
   ]
  },
  {
   "cell_type": "code",
   "execution_count": 20,
   "metadata": {
    "ExecuteTime": {
     "end_time": "2020-02-14T14:29:29.365338Z",
     "start_time": "2020-02-14T14:29:29.077588Z"
    }
   },
   "outputs": [
    {
     "name": "stdout",
     "output_type": "stream",
     "text": [
      "+-----+--------------------+--------------------+--------------------+----------+\n",
      "|label|            features|       rawPrediction|         probability|prediction|\n",
      "+-----+--------------------+--------------------+--------------------+----------+\n",
      "|  0.0|(692,[95,96,97,12...|[22.7536706326033...|[0.99999999986871...|       0.0|\n",
      "|  0.0|(692,[98,99,100,1...|[25.0243378323464...|[0.99999999998644...|       0.0|\n",
      "|  0.0|(692,[122,123,124...|[19.9508338032883...|[0.99999999783497...|       0.0|\n",
      "+-----+--------------------+--------------------+--------------------+----------+\n",
      "only showing top 3 rows\n",
      "\n"
     ]
    }
   ],
   "source": [
    "train_result.predictions.show(3)"
   ]
  },
  {
   "cell_type": "markdown",
   "metadata": {},
   "source": [
    "### Evaluating the model based on the testing set\n",
    "Showing the predictions of test_result after evaluating"
   ]
  },
  {
   "cell_type": "code",
   "execution_count": 21,
   "metadata": {
    "ExecuteTime": {
     "end_time": "2020-02-14T14:29:30.897516Z",
     "start_time": "2020-02-14T14:29:30.559403Z"
    }
   },
   "outputs": [],
   "source": [
    "test_result = lg_model.evaluate(test_set)"
   ]
  },
  {
   "cell_type": "code",
   "execution_count": 22,
   "metadata": {
    "ExecuteTime": {
     "end_time": "2020-02-14T14:29:31.723358Z",
     "start_time": "2020-02-14T14:29:31.446583Z"
    }
   },
   "outputs": [
    {
     "name": "stdout",
     "output_type": "stream",
     "text": [
      "+-----+--------------------+--------------------+--------------------+----------+\n",
      "|label|            features|       rawPrediction|         probability|prediction|\n",
      "+-----+--------------------+--------------------+--------------------+----------+\n",
      "|  0.0|(692,[100,101,102...|[9.91945019493665...|[0.99995079421705...|       0.0|\n",
      "|  0.0|(692,[121,122,123...|[12.6076298536514...|[0.99999665362604...|       0.0|\n",
      "|  0.0|(692,[122,123,148...|[15.4974458737593...|[0.99999981398640...|       0.0|\n",
      "+-----+--------------------+--------------------+--------------------+----------+\n",
      "only showing top 3 rows\n",
      "\n"
     ]
    }
   ],
   "source": [
    "test_result.predictions.show(3)"
   ]
  },
  {
   "cell_type": "markdown",
   "metadata": {},
   "source": [
    "### Using Evaluators\n",
    "Based on the BinaryClassificationEvaluator, MulticlassClassificationEvaluator from pyspark.ml.evaluation"
   ]
  },
  {
   "cell_type": "code",
   "execution_count": 23,
   "metadata": {
    "ExecuteTime": {
     "end_time": "2020-02-14T14:29:33.523056Z",
     "start_time": "2020-02-14T14:29:33.516076Z"
    }
   },
   "outputs": [],
   "source": [
    "from pyspark.ml.evaluation import BinaryClassificationEvaluator, MulticlassClassificationEvaluator"
   ]
  },
  {
   "cell_type": "code",
   "execution_count": 24,
   "metadata": {
    "ExecuteTime": {
     "end_time": "2020-02-14T14:29:34.506837Z",
     "start_time": "2020-02-14T14:29:34.399137Z"
    }
   },
   "outputs": [],
   "source": [
    "pred_label_train_result = train_result.predictions.select(\"prediction\", \"label\")"
   ]
  },
  {
   "cell_type": "code",
   "execution_count": 25,
   "metadata": {
    "ExecuteTime": {
     "end_time": "2020-02-14T14:29:35.663447Z",
     "start_time": "2020-02-14T14:29:35.431542Z"
    }
   },
   "outputs": [
    {
     "name": "stdout",
     "output_type": "stream",
     "text": [
      "+----------+-----+\n",
      "|prediction|label|\n",
      "+----------+-----+\n",
      "|       0.0|  0.0|\n",
      "|       0.0|  0.0|\n",
      "|       0.0|  0.0|\n",
      "+----------+-----+\n",
      "only showing top 3 rows\n",
      "\n"
     ]
    }
   ],
   "source": [
    "pred_label_train_result.show(3)"
   ]
  },
  {
   "cell_type": "code",
   "execution_count": 26,
   "metadata": {
    "ExecuteTime": {
     "end_time": "2020-02-14T14:29:36.406505Z",
     "start_time": "2020-02-14T14:29:36.296682Z"
    }
   },
   "outputs": [],
   "source": [
    "pred_label_test_result = test_result.predictions.select(\"prediction\", \"label\")"
   ]
  },
  {
   "cell_type": "code",
   "execution_count": 27,
   "metadata": {
    "ExecuteTime": {
     "end_time": "2020-02-14T14:29:37.066585Z",
     "start_time": "2020-02-14T14:29:36.818227Z"
    }
   },
   "outputs": [
    {
     "name": "stdout",
     "output_type": "stream",
     "text": [
      "+----------+-----+\n",
      "|prediction|label|\n",
      "+----------+-----+\n",
      "|       0.0|  0.0|\n",
      "|       0.0|  0.0|\n",
      "|       0.0|  0.0|\n",
      "+----------+-----+\n",
      "only showing top 3 rows\n",
      "\n"
     ]
    }
   ],
   "source": [
    "pred_label_test_result.show(3)"
   ]
  },
  {
   "cell_type": "markdown",
   "metadata": {},
   "source": [
    "#### Using BinaryClassificationEvaluator"
   ]
  },
  {
   "cell_type": "code",
   "execution_count": 28,
   "metadata": {
    "ExecuteTime": {
     "end_time": "2020-02-14T14:29:38.804226Z",
     "start_time": "2020-02-14T14:29:38.344434Z"
    }
   },
   "outputs": [
    {
     "data": {
      "text/plain": [
       "1.0"
      ]
     },
     "execution_count": 28,
     "metadata": {},
     "output_type": "execute_result"
    }
   ],
   "source": [
    "evaluator = BinaryClassificationEvaluator(rawPredictionCol=\"prediction\", \n",
    "                                          labelCol=\"label\", \n",
    "                                          metricName='areaUnderROC')\n",
    "evaluator.evaluate(pred_label_train_result)"
   ]
  },
  {
   "cell_type": "code",
   "execution_count": 29,
   "metadata": {
    "ExecuteTime": {
     "end_time": "2020-02-14T14:29:39.677845Z",
     "start_time": "2020-02-14T14:29:39.380858Z"
    }
   },
   "outputs": [
    {
     "data": {
      "text/plain": [
       "1.0"
      ]
     },
     "execution_count": 29,
     "metadata": {},
     "output_type": "execute_result"
    }
   ],
   "source": [
    "evaluator = BinaryClassificationEvaluator(rawPredictionCol=\"prediction\", \n",
    "                                          labelCol=\"label\", \n",
    "                                          metricName='areaUnderPR')\n",
    "evaluator.evaluate(pred_label_train_result)"
   ]
  },
  {
   "cell_type": "code",
   "execution_count": 30,
   "metadata": {
    "ExecuteTime": {
     "end_time": "2020-02-14T14:29:40.450732Z",
     "start_time": "2020-02-14T14:29:40.161487Z"
    }
   },
   "outputs": [
    {
     "data": {
      "text/plain": [
       "1.0"
      ]
     },
     "execution_count": 30,
     "metadata": {},
     "output_type": "execute_result"
    }
   ],
   "source": [
    "evaluator = BinaryClassificationEvaluator(rawPredictionCol=\"prediction\", \n",
    "                                          labelCol=\"label\", \n",
    "                                          metricName='areaUnderROC')\n",
    "evaluator.evaluate(pred_label_test_result)"
   ]
  },
  {
   "cell_type": "code",
   "execution_count": 31,
   "metadata": {
    "ExecuteTime": {
     "end_time": "2020-02-14T14:29:41.322383Z",
     "start_time": "2020-02-14T14:29:40.995746Z"
    }
   },
   "outputs": [
    {
     "data": {
      "text/plain": [
       "1.0"
      ]
     },
     "execution_count": 31,
     "metadata": {},
     "output_type": "execute_result"
    }
   ],
   "source": [
    "evaluator = BinaryClassificationEvaluator(rawPredictionCol=\"prediction\", \n",
    "                                          labelCol=\"label\", \n",
    "                                          metricName='areaUnderPR')\n",
    "evaluator.evaluate(pred_label_test_result)"
   ]
  },
  {
   "cell_type": "markdown",
   "metadata": {},
   "source": [
    "#### Using MulticlassClassificationEvaluator"
   ]
  },
  {
   "cell_type": "code",
   "execution_count": 32,
   "metadata": {
    "ExecuteTime": {
     "end_time": "2020-02-14T14:29:42.871082Z",
     "start_time": "2020-02-14T14:29:42.428266Z"
    }
   },
   "outputs": [
    {
     "data": {
      "text/plain": [
       "1.0"
      ]
     },
     "execution_count": 32,
     "metadata": {},
     "output_type": "execute_result"
    }
   ],
   "source": [
    "evaluator = MulticlassClassificationEvaluator(predictionCol=\"prediction\", \n",
    "                                              labelCol=\"label\", \n",
    "                                              metricName=\"accuracy\") \n",
    "evaluator.evaluate(pred_label_train_result)"
   ]
  },
  {
   "cell_type": "code",
   "execution_count": 33,
   "metadata": {
    "ExecuteTime": {
     "end_time": "2020-02-14T14:29:43.782860Z",
     "start_time": "2020-02-14T14:29:43.423217Z"
    }
   },
   "outputs": [
    {
     "data": {
      "text/plain": [
       "1.0"
      ]
     },
     "execution_count": 33,
     "metadata": {},
     "output_type": "execute_result"
    }
   ],
   "source": [
    "evaluator = MulticlassClassificationEvaluator(predictionCol=\"prediction\", \n",
    "                                              labelCol=\"label\", \n",
    "                                              metricName=\"f1\") \n",
    "evaluator.evaluate(pred_label_train_result)"
   ]
  },
  {
   "cell_type": "code",
   "execution_count": 34,
   "metadata": {
    "ExecuteTime": {
     "end_time": "2020-02-14T14:29:44.519766Z",
     "start_time": "2020-02-14T14:29:44.209571Z"
    }
   },
   "outputs": [
    {
     "data": {
      "text/plain": [
       "1.0"
      ]
     },
     "execution_count": 34,
     "metadata": {},
     "output_type": "execute_result"
    }
   ],
   "source": [
    "evaluator = MulticlassClassificationEvaluator(predictionCol=\"prediction\", \n",
    "                                              labelCol=\"label\", \n",
    "                                              metricName=\"accuracy\") \n",
    "evaluator.evaluate(pred_label_test_result)"
   ]
  },
  {
   "cell_type": "code",
   "execution_count": 35,
   "metadata": {
    "ExecuteTime": {
     "end_time": "2020-02-14T14:29:45.298126Z",
     "start_time": "2020-02-14T14:29:44.958611Z"
    }
   },
   "outputs": [
    {
     "data": {
      "text/plain": [
       "1.0"
      ]
     },
     "execution_count": 35,
     "metadata": {},
     "output_type": "execute_result"
    }
   ],
   "source": [
    "evaluator = MulticlassClassificationEvaluator(predictionCol=\"prediction\", \n",
    "                                              labelCol=\"label\", \n",
    "                                              metricName=\"f1\") \n",
    "evaluator.evaluate(pred_label_test_result)"
   ]
  },
  {
   "cell_type": "markdown",
   "metadata": {},
   "source": [
    "### Showing the summary of the fitted model\n",
    "#### Extract the summary from the returned LogisticRegressionModel instance trained in the earlier example"
   ]
  },
  {
   "cell_type": "code",
   "execution_count": 36,
   "metadata": {
    "ExecuteTime": {
     "end_time": "2020-02-14T14:29:46.576050Z",
     "start_time": "2020-02-14T14:29:46.478786Z"
    }
   },
   "outputs": [],
   "source": [
    "trainingSummary = lg_model.summary"
   ]
  },
  {
   "cell_type": "markdown",
   "metadata": {},
   "source": [
    "#### Obtain the objective per iteration"
   ]
  },
  {
   "cell_type": "code",
   "execution_count": 37,
   "metadata": {
    "ExecuteTime": {
     "end_time": "2020-02-14T14:29:48.097635Z",
     "start_time": "2020-02-14T14:29:47.785372Z"
    }
   },
   "outputs": [
    {
     "name": "stdout",
     "output_type": "stream",
     "text": [
      "objectiveHistory:\n",
      "0.6879923392546194\n",
      "0.21867151065149842\n",
      "0.045984010122103874\n",
      "0.013452645710489423\n",
      "0.002399745063759046\n",
      "0.0017682298096177486\n",
      "0.001041529110174008\n",
      "0.000724063385127086\n",
      "0.0004405180405019296\n",
      "0.00025946356080858575\n",
      "0.0001688205747573391\n",
      "0.0001269919885232395\n",
      "4.7837771871312535e-05\n",
      "2.7055360853185438e-05\n",
      "1.3445005807708624e-05\n",
      "6.897753058917522e-06\n",
      "3.4724977617023924e-06\n",
      "1.754495690019691e-06\n",
      "8.821350787277097e-07\n",
      "4.4305007744416274e-07\n",
      "2.2214532877357304e-07\n",
      "1.1130810684799967e-07\n",
      "5.571459389653745e-08\n",
      "2.7885323077479978e-08\n",
      "1.395406046356185e-08\n",
      "6.989248035938718e-09\n",
      "3.4701044498172808e-09\n",
      "1.3696094334566806e-09\n"
     ]
    }
   ],
   "source": [
    "objectiveHistory = trainingSummary.objectiveHistory\n",
    "print(\"objectiveHistory:\")\n",
    "for objective in objectiveHistory:\n",
    "    print(objective)"
   ]
  },
  {
   "cell_type": "markdown",
   "metadata": {},
   "source": [
    "#### Obtain the receiver-operating characteristic as a dataframe and areaUnderROC."
   ]
  },
  {
   "cell_type": "code",
   "execution_count": 38,
   "metadata": {
    "ExecuteTime": {
     "end_time": "2020-02-14T14:29:49.686287Z",
     "start_time": "2020-02-14T14:29:49.263144Z"
    }
   },
   "outputs": [
    {
     "name": "stdout",
     "output_type": "stream",
     "text": [
      "+---+-------------------+\n",
      "|FPR|                TPR|\n",
      "+---+-------------------+\n",
      "|0.0|                0.0|\n",
      "|0.0|0.02631578947368421|\n",
      "|0.0|0.05263157894736842|\n",
      "|0.0|0.07894736842105263|\n",
      "|0.0|0.10526315789473684|\n",
      "|0.0|0.13157894736842105|\n",
      "|0.0|0.15789473684210525|\n",
      "|0.0|0.18421052631578946|\n",
      "|0.0|0.21052631578947367|\n",
      "|0.0|0.23684210526315788|\n",
      "|0.0| 0.2631578947368421|\n",
      "|0.0| 0.2894736842105263|\n",
      "|0.0| 0.3157894736842105|\n",
      "|0.0|0.34210526315789475|\n",
      "|0.0| 0.3684210526315789|\n",
      "|0.0|0.39473684210526316|\n",
      "|0.0|0.42105263157894735|\n",
      "|0.0| 0.4473684210526316|\n",
      "|0.0|0.47368421052631576|\n",
      "|0.0|                0.5|\n",
      "+---+-------------------+\n",
      "only showing top 20 rows\n",
      "\n",
      "areaUnderROC: 1.0\n"
     ]
    }
   ],
   "source": [
    "trainingSummary.roc.show()\n",
    "print(\"areaUnderROC: \" + str(trainingSummary.areaUnderROC))"
   ]
  },
  {
   "cell_type": "markdown",
   "metadata": {},
   "source": [
    "### Showing the relative scores of training set and after evaluating testing set: Precision, Recall, F1\n",
    "\n",
    "for multiclass, we can inspect metrics on a per-label basis"
   ]
  },
  {
   "cell_type": "code",
   "execution_count": 39,
   "metadata": {
    "ExecuteTime": {
     "end_time": "2020-02-14T14:29:51.665122Z",
     "start_time": "2020-02-14T14:29:51.191301Z"
    }
   },
   "outputs": [
    {
     "name": "stdout",
     "output_type": "stream",
     "text": [
      "False positive rate by label:\n",
      "label 0: 0.0\n",
      "label 1: 0.0\n",
      "True positive rate by label:\n",
      "label 0: 1.0\n",
      "label 1: 1.0\n",
      "Precision by label:\n",
      "label 0: 1.0\n",
      "label 1: 1.0\n",
      "Recall by label:\n",
      "label 0: 1.0\n",
      "label 1: 1.0\n",
      "F-measure by label:\n",
      "label 0: 1.0\n",
      "label 1: 1.0\n",
      "Accuracy: 1.0\n",
      "FPR: 0.0\n",
      "TPR: 1.0\n",
      "F-measure: 1.0\n",
      "Precision: 1.0\n",
      "Recall: 1.0\n"
     ]
    }
   ],
   "source": [
    "print(\"False positive rate by label:\")\n",
    "for i, rate in enumerate(trainingSummary.falsePositiveRateByLabel):\n",
    "    print(\"label %d: %s\" % (i, rate))\n",
    "\n",
    "print(\"True positive rate by label:\")\n",
    "for i, rate in enumerate(trainingSummary.truePositiveRateByLabel):\n",
    "    print(\"label %d: %s\" % (i, rate))\n",
    "\n",
    "print(\"Precision by label:\")\n",
    "for i, prec in enumerate(trainingSummary.precisionByLabel):\n",
    "    print(\"label %d: %s\" % (i, prec))\n",
    "\n",
    "print(\"Recall by label:\")\n",
    "for i, rec in enumerate(trainingSummary.recallByLabel):\n",
    "    print(\"label %d: %s\" % (i, rec))\n",
    "\n",
    "print(\"F-measure by label:\")\n",
    "for i, f in enumerate(trainingSummary.fMeasureByLabel()):\n",
    "    print(\"label %d: %s\" % (i, f))\n",
    "\n",
    "accuracy = trainingSummary.accuracy\n",
    "falsePositiveRate = trainingSummary.weightedFalsePositiveRate\n",
    "truePositiveRate = trainingSummary.weightedTruePositiveRate\n",
    "fMeasure = trainingSummary.weightedFMeasure()\n",
    "precision = trainingSummary.weightedPrecision\n",
    "recall = trainingSummary.weightedRecall\n",
    "print(\"Accuracy: %s\\nFPR: %s\\nTPR: %s\\nF-measure: %s\\nPrecision: %s\\nRecall: %s\"\n",
    "      % (accuracy, falsePositiveRate, truePositiveRate, fMeasure, precision, recall))"
   ]
  }
 ],
 "metadata": {
  "anaconda-cloud": {},
  "kernelspec": {
   "display_name": "Python 3",
   "language": "python",
   "name": "python3"
  },
  "language_info": {
   "codemirror_mode": {
    "name": "ipython",
    "version": 3
   },
   "file_extension": ".py",
   "mimetype": "text/x-python",
   "name": "python",
   "nbconvert_exporter": "python",
   "pygments_lexer": "ipython3",
   "version": "3.6.7"
  },
  "toc": {
   "base_numbering": 1,
   "nav_menu": {},
   "number_sections": true,
   "sideBar": true,
   "skip_h1_title": false,
   "title_cell": "Table of Contents",
   "title_sidebar": "Contents",
   "toc_cell": false,
   "toc_position": {},
   "toc_section_display": true,
   "toc_window_display": true
  },
  "varInspector": {
   "cols": {
    "lenName": 16,
    "lenType": 16,
    "lenVar": 40
   },
   "kernels_config": {
    "python": {
     "delete_cmd_postfix": "",
     "delete_cmd_prefix": "del ",
     "library": "var_list.py",
     "varRefreshCmd": "print(var_dic_list())"
    },
    "r": {
     "delete_cmd_postfix": ") ",
     "delete_cmd_prefix": "rm(",
     "library": "var_list.r",
     "varRefreshCmd": "cat(var_dic_list()) "
    }
   },
   "types_to_exclude": [
    "module",
    "function",
    "builtin_function_or_method",
    "instance",
    "_Feature"
   ],
   "window_display": false
  }
 },
 "nbformat": 4,
 "nbformat_minor": 1
}
